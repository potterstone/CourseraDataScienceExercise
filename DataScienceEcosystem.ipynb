{
 "cells": [
  {
   "cell_type": "markdown",
   "id": "3058b8b6-8642-4ebb-9229-a50bd89b3e3e",
   "metadata": {},
   "source": [
    "# Data Science Tools and Ecosystem\n",
    "## Author:  Laura Stone\n",
    "## \n"
   ]
  },
  {
   "cell_type": "markdown",
   "id": "4537e46a-c2f0-4439-8b7e-d1bf0b1d6668",
   "metadata": {},
   "source": [
    "## In this notebook, Data Science Tools and Ecosystems are summarized\n",
    "### **Objectives:**\n",
    "- List popular languages for Data Science\n",
    "- List commonly used libraries for Data Science\n",
    "- Show common Data Science Tools\n",
    "- Provide examples of arithmetic expressions in Python\n",
    "####  "
   ]
  },
  {
   "cell_type": "markdown",
   "id": "4ebc5d75-3ffe-4788-90d3-4423cf70fb52",
   "metadata": {},
   "source": [
    "### Some of the popular languages that Data Scientists use are:"
   ]
  },
  {
   "cell_type": "markdown",
   "id": "cdf6efe3-6e32-443a-9c33-9d83c413743b",
   "metadata": {},
   "source": [
    "1. Java\n",
    "2. Scala\n",
    "3. Python\n",
    "4. R\n",
    "5. SQL"
   ]
  },
  {
   "cell_type": "markdown",
   "id": "896c5575-ce79-4df7-a87a-bfec0b8bf530",
   "metadata": {},
   "source": [
    "### Some of the commonly used libraries used by Data Scientists include: "
   ]
  },
  {
   "cell_type": "markdown",
   "id": "7d8f2628-c925-4527-b24d-957cb141a45d",
   "metadata": {},
   "source": [
    "1. Pandas, a scientific computing library\n",
    "2. Matplotlib, a visualization library\n",
    "3. Scikit-learn, a machine learning library\n",
    "4. TensorFlow, a deep learning library"
   ]
  },
  {
   "cell_type": "markdown",
   "id": "cfba7286-e818-4e50-badf-5424e47f48a4",
   "metadata": {},
   "source": [
    "### Table of Data Science Tools"
   ]
  },
  {
   "cell_type": "markdown",
   "id": "7d535b8a-a52d-4887-9232-713fc96d287a",
   "metadata": {},
   "source": [
    "Data Science Tools |\n",
    "------------------ |\n",
    "IBM Watson Studio  |\n",
    "GitHub  |\n",
    "RStudio |\n",
    "JupyterLab |"
   ]
  },
  {
   "cell_type": "markdown",
   "id": "e5e2bbfd-79d2-4a80-b240-4fb483718c9b",
   "metadata": {},
   "source": [
    "### Below are a few examples of evaluating arithmetic expressions in Python"
   ]
  },
  {
   "cell_type": "markdown",
   "id": "36338bd3-d3cb-4508-b60c-bb156ab8ef14",
   "metadata": {},
   "source": [
    "#### x = 4  (Variable Assignment)\n",
    "#### sum = x + 10    # Addition\n",
    "#### difference = x - 2  # Subtraction\n",
    "#### product = x * 3  # Multiplication\n",
    "#### Quotient = x / 2  # Division"
   ]
  },
  {
   "cell_type": "markdown",
   "id": "5670578b-4c65-4638-b2d6-be9b9f9eac0c",
   "metadata": {},
   "source": [
    "### This is a simple arithmetic expression to multiply and add integers"
   ]
  },
  {
   "cell_type": "code",
   "execution_count": 15,
   "id": "44f2f171-8dee-41c6-8188-874f6c661e67",
   "metadata": {},
   "outputs": [
    {
     "data": {
      "text/plain": [
       "17"
      ]
     },
     "execution_count": 15,
     "metadata": {},
     "output_type": "execute_result"
    }
   ],
   "source": [
    "(3*4)+5"
   ]
  },
  {
   "cell_type": "markdown",
   "id": "96f55a34-97c5-4e4f-bf85-feaa0197228f",
   "metadata": {},
   "source": [
    "### This will convert 200 minutes to hours by dividing by 60"
   ]
  },
  {
   "cell_type": "code",
   "execution_count": 18,
   "id": "9551fdea-9583-47fd-a76a-22a916860ad3",
   "metadata": {},
   "outputs": [
    {
     "name": "stdout",
     "output_type": "stream",
     "text": [
      "3.3333333333333335\n"
     ]
    }
   ],
   "source": [
    "Hours = 200\n",
    "Min_per_Hour = 60\n",
    "Minutes = Hours / Min_per_Hour\n",
    "print (Minutes)"
   ]
  },
  {
   "cell_type": "code",
   "execution_count": null,
   "id": "1079e3c8-5af4-4b8b-84f7-4f9a6bcf52b9",
   "metadata": {},
   "outputs": [],
   "source": []
  }
 ],
 "metadata": {
  "kernelspec": {
   "display_name": "Python 3 (ipykernel)",
   "language": "python",
   "name": "python3"
  },
  "language_info": {
   "codemirror_mode": {
    "name": "ipython",
    "version": 3
   },
   "file_extension": ".py",
   "mimetype": "text/x-python",
   "name": "python",
   "nbconvert_exporter": "python",
   "pygments_lexer": "ipython3",
   "version": "3.12.7"
  }
 },
 "nbformat": 4,
 "nbformat_minor": 5
}
